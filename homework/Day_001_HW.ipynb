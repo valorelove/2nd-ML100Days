{
 "cells": [
  {
   "cell_type": "markdown",
   "metadata": {},
   "source": [
    "# 作業1：\n",
    "\n",
    "請上 Kaggle, 在 Competitions 或 Dataset 中找一組競賽或資料並寫下：\n",
    "\n",
    "所選資料 : [Mall Customer Segmentation Data](https://www.kaggle.com/vjchoudhary7/customer-segmentation-tutorial-in-python)\n",
    "\n",
    "**- 你選的這組資料為何重要**\n",
    "\n",
    "  在商業領域中，越了解顧客特徵及行為的人，就越能針對目標客戶設計對應的營銷策略，而這組資料為顧客的基本資料\n",
    "\n",
    "**- 資料從何而來**\n",
    "\n",
    "  該資料來源為 Udemy 的機器學習課程，不確定是否為真實資料\n",
    "\n",
    "**- 蒐集而來的資料型態為何**\n",
    "\n",
    "  資料型態為 csv, 其內容包含顧客的基本資料 (ID, age, gender, income, spending score)\n",
    "\n",
    "**- 這組資料想解決的問題如何評估**\n",
    "\n",
    "  在我選擇的資料集嘗試以分群區分使用者\n",
    "  會以SSE來進行驗證判斷，判斷該結果是否能達成群內的總變異最小且使群間的總變異最大  \n",
    " \n"
   ]
  },
  {
   "cell_type": "markdown",
   "metadata": {},
   "source": [
    "\n",
    "\n",
    "# 作業2：\n",
    "\n",
    "想像你經營一個自由載客車隊，你希望能透過數據分析以提升業績，請你思考並描述你如何規劃整體的分析/解決方案：\n",
    "\n",
    "**- 核心問題為何 (tips：如何定義 「提升業績 & 你的假設」)**\n",
    "\n",
    "對於提升業績而言，我會假設下列兩點  \n",
    "1. 降低成本，在非尖峰的時間減少派車數量 → 以迴歸分析進行預測\n",
    "2. 提升載客的成功，找出顧客可能的搭車習慣，提供更客製化的服務  \n",
    "\n",
    "**- 資料從何而來 (tips：哪些資料可能會對你想問的問題產生影響 & 資料如何蒐集)**\n",
    "\n",
    "若要驗證其假設，會需要每筆乘車紀錄，因此會收集下列資料  \n",
    "1. 訂單資料:在顧客叫車的同時會記錄該用戶的叫車時間，叫車地點及目的地  \n",
    "2. 顧客資料:基本年齡、職業、電話及月收入\n",
    "\n",
    "**- 蒐集而來的資料型態為何**\n",
    "\n",
    "所蒐集資料會存放於後端資料庫，便於數據工程師利用SQL取得\n",
    "\n",
    "**- 你要回答的問題，其如何評估 (tips：你的假設如何驗證)**\n",
    "\n",
    "1. 降低成本 → 以迴歸分析進行預測，將預測所得的派車數與實際派車數進行比較\n",
    "2. 提升載客的成功 → 找出顧客固定的搭車地點於時程，在前一小時打電話詢問是否需要該服務，以計算準確率"
   ]
  },
  {
   "cell_type": "markdown",
   "metadata": {},
   "source": [
    "## 練習時間\n",
    "#### 請寫一個函式用來計算 Mean Square Error\n",
    "$ MSE = \\frac{1}{n}\\sum_{i=1}^{n}{(Y_i - \\hat{Y}_i)^2} $\n",
    "\n",
    "### Hint: [如何取平方](https://googoodesign.gitbooks.io/-ezpython/unit-1.html)"
   ]
  },
  {
   "cell_type": "code",
   "execution_count": 30,
   "metadata": {},
   "outputs": [],
   "source": [
    "import numpy as np\n",
    "import matplotlib.pyplot as plt"
   ]
  },
  {
   "cell_type": "code",
   "execution_count": 31,
   "metadata": {},
   "outputs": [],
   "source": [
    "def mean_squared_error(y, y_hat):\n",
    "    return ((y-y_hat)**2).mean()"
   ]
  },
  {
   "cell_type": "code",
   "execution_count": 32,
   "metadata": {},
   "outputs": [],
   "source": [
    "def mean_absolute_error(y, y_hat):\n",
    "    return sum(abs(y - y_hat)) / len(y)"
   ]
  },
  {
   "cell_type": "code",
   "execution_count": 37,
   "metadata": {},
   "outputs": [
    {
     "data": {
      "image/png": "[encoded data removed]",
      "text/plain": [
       "<matplotlib.figure.Figure at 0x14e9c23f748>"
      ]
     },
     "metadata": {},
     "output_type": "display_data"
    }
   ],
   "source": [
    "w = 3\n",
    "b = 0.5\n",
    "\n",
    "x_lin = np.linspace(0, 100, 101)\n",
    "\n",
    "y = (x_lin + np.random.randn(101) * 5) * w + b\n",
    "\n",
    "plt.plot(x_lin, y, 'b.', label = 'data points')\n",
    "plt.title(\"Assume we have data points\")\n",
    "plt.legend(loc = 2)\n",
    "plt.show()"
   ]
  },
  {
   "cell_type": "code",
   "execution_count": 38,
   "metadata": {},
   "outputs": [
    {
     "data": {
      "image/png": "[encoded data removed]",
      "text/plain": [
       "<matplotlib.figure.Figure at 0x14e9c2b1a90>"
      ]
     },
     "metadata": {},
     "output_type": "display_data"
    }
   ],
   "source": [
    "y_hat = x_lin * w + b\n",
    "plt.plot(x_lin, y, 'b.', label = 'data')\n",
    "plt.plot(x_lin, y_hat, 'r-', label = 'prediction')\n",
    "plt.title(\"Assume we have data points (And the prediction)\")\n",
    "plt.legend(loc = 2)\n",
    "plt.show()"
   ]
  },
  {
   "cell_type": "code",
   "execution_count": 39,
   "metadata": {},
   "outputs": [
    {
     "name": "stdout",
     "output_type": "stream",
     "text": [
      "The Mean squared error is 215.466\n",
      "The Mean absolute error is 11.902\n"
     ]
    }
   ],
   "source": [
    "# 執行 Function, 確認有沒有正常執行\n",
    "MSE = mean_squared_error(y, y_hat)\n",
    "MAE = mean_absolute_error(y, y_hat)\n",
    "print(\"The Mean squared error is %.3f\" % (MSE))\n",
    "print(\"The Mean absolute error is %.3f\" % (MAE))"
   ]
  },
  {
   "cell_type": "code",
   "execution_count": null,
   "metadata": {},
   "outputs": [],
   "source": []
  }
 ],
 "metadata": {
  "anaconda-cloud": {},
  "kernelspec": {
   "display_name": "Python 3",
   "language": "python",
   "name": "python3"
  },
  "language_info": {
   "codemirror_mode": {
    "name": "ipython",
    "version": 3
   },
   "file_extension": ".py",
   "mimetype": "text/x-python",
   "name": "python",
   "nbconvert_exporter": "python",
   "pygments_lexer": "ipython3",
   "version": "3.6.3"
  }
 },
 "nbformat": 4,
 "nbformat_minor": 1
}
